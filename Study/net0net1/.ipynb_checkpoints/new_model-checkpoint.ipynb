{
 "cells": [
  {
   "cell_type": "code",
   "execution_count": 1,
   "id": "e39cfd9b",
   "metadata": {},
   "outputs": [],
   "source": [
    "from models.dpg_hm_18 import *\n",
    "from models.dpg_hm_18_double import *\n",
    "\n",
    "# GPU\n",
    "import torch.backends.cudnn as cudnn\n",
    "device = torch.device(\"cuda\" if torch.cuda.is_available() else \"cpu\")\n",
    "cudnn.benchmark = True"
   ]
  },
  {
   "cell_type": "code",
   "execution_count": 3,
   "id": "f20bc2a5",
   "metadata": {},
   "outputs": [],
   "source": [
    "dpg_hm18_model = DPGHM18()"
   ]
  },
  {
   "cell_type": "code",
   "execution_count": 4,
   "id": "1718a6db",
   "metadata": {},
   "outputs": [],
   "source": [
    "dpg_hm18_double_model = DPGHM18Double()"
   ]
  },
  {
   "cell_type": "code",
   "execution_count": 6,
   "id": "74aa85e5",
   "metadata": {},
   "outputs": [
    {
     "data": {
      "text/plain": [
       "<All keys matched successfully>"
      ]
     },
     "execution_count": 6,
     "metadata": {},
     "output_type": "execute_result"
    }
   ],
   "source": [
    "dpg_hm18_model.load_state_dict(torch.load('models/dpghm18/model-dpghm18-0.5-epoch-2-loss-0.6817.pth'))"
   ]
  },
  {
   "cell_type": "code",
   "execution_count": 7,
   "id": "7ee8e4e2",
   "metadata": {},
   "outputs": [
    {
     "data": {
      "text/plain": [
       "<All keys matched successfully>"
      ]
     },
     "execution_count": 7,
     "metadata": {},
     "output_type": "execute_result"
    }
   ],
   "source": [
    "dpg_hm18_double_model.DPGHM18.load_state_dict(dpg_hm18_model.state_dict())"
   ]
  },
  {
   "cell_type": "code",
   "execution_count": null,
   "id": "7228f527",
   "metadata": {},
   "outputs": [],
   "source": [
    "torch.save(dpg_hm18_double_model.state_dict(), 'init_dpg_hm18.pth')"
   ]
  }
 ],
 "metadata": {
  "kernelspec": {
   "display_name": "torchcuda",
   "language": "python",
   "name": "torchcuda"
  },
  "language_info": {
   "codemirror_mode": {
    "name": "ipython",
    "version": 3
   },
   "file_extension": ".py",
   "mimetype": "text/x-python",
   "name": "python",
   "nbconvert_exporter": "python",
   "pygments_lexer": "ipython3",
   "version": "3.7.16"
  }
 },
 "nbformat": 4,
 "nbformat_minor": 5
}
