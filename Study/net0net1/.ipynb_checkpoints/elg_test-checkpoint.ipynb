{
 "cells": [
  {
   "cell_type": "code",
   "execution_count": null,
   "id": "42db803c",
   "metadata": {},
   "outputs": [],
   "source": [
    "from models.elg import *\n",
    "from utils.gazemap import *\n",
    "from trainers.dpg_trainer import *\n",
    "import matplotlib.pyplot as plt\n",
    "from torch.utils.data import DataLoader, random_split\n",
    "from datasources.unityeyes import *\n",
    "from datasources.mpii_gaze import *"
   ]
  },
  {
   "cell_type": "code",
   "execution_count": null,
   "id": "8792e5b7",
   "metadata": {},
   "outputs": [],
   "source": [
    "# GPU\n",
    "import torch.backends.cudnn as cudnn\n",
    "device = torch.device(\"cuda\" if torch.cuda.is_available() else \"cpu\")\n",
    "cudnn.benchmark = True"
   ]
  },
  {
   "cell_type": "code",
   "execution_count": null,
   "id": "977615e8",
   "metadata": {},
   "outputs": [],
   "source": [
    "# 数据\n",
    "batch_size = 64\n",
    "\n",
    "train_dataset = UnityEyesDataset('datasets/train', eye_image_shape=(36, 60), \n",
    "                                generate_heatmaps=True,\n",
    "                                random_difficulty=True) \n",
    "\n",
    "val_dataset = UnityEyesDataset('datasets/val', eye_image_shape=(36, 60),\n",
    "                                generate_heatmaps=True,\n",
    "                                random_difficulty=True)\n",
    "\n",
    "train_dataloader = DataLoader(train_dataset, \n",
    "                                pin_memory=True, \n",
    "                                drop_last=True,\n",
    "                                # shuffle=True,\n",
    "                                batch_size=batch_size)\n",
    "\n",
    "val_dataloader = DataLoader(val_dataset, \n",
    "                                pin_memory=True, \n",
    "                                drop_last=False,\n",
    "                                batch_size=batch_size)"
   ]
  },
  {
   "cell_type": "code",
   "execution_count": null,
   "id": "b0090d27",
   "metadata": {},
   "outputs": [],
   "source": [
    "net = ELG()\n",
    "net.load_state_dict(torch.load('models/elg/model-elg-0.3-epoch-75-loss-0.8321.pth'))\n",
    "net = net.cuda()"
   ]
  },
  {
   "cell_type": "code",
   "execution_count": null,
   "id": "a3308692",
   "metadata": {
    "scrolled": true
   },
   "outputs": [],
   "source": [
    "sample = next(iter(train_dataloader))\n",
    "res = net(sample['eye'].cuda())\n",
    "plt.scatter(res[1][0][:, :1].cpu().detach().numpy() , res[1][0][:,1:].cpu().detach().numpy() )\n",
    "plt.imshow(sample['eye'][0][0])"
   ]
  },
  {
   "cell_type": "code",
   "execution_count": null,
   "id": "015bc4d8",
   "metadata": {},
   "outputs": [],
   "source": [
    "res[2]"
   ]
  },
  {
   "cell_type": "code",
   "execution_count": null,
   "id": "a86e2aad",
   "metadata": {},
   "outputs": [],
   "source": [
    "net.compute_gaze(res[1], res[2])"
   ]
  },
  {
   "cell_type": "code",
   "execution_count": null,
   "id": "71682ffc",
   "metadata": {},
   "outputs": [],
   "source": [
    "sample['gaze'][0]"
   ]
  },
  {
   "cell_type": "code",
   "execution_count": null,
   "id": "4c489e21",
   "metadata": {},
   "outputs": [],
   "source": [
    "from models.gaze_modelbased import*"
   ]
  },
  {
   "cell_type": "code",
   "execution_count": null,
   "id": "7dd56e70",
   "metadata": {},
   "outputs": [],
   "source": [
    "heatmaps_predict, ldmks_predict, radius_predict = res\n",
    "ldmks = ldmks_predict.cpu().detach().numpy()\n",
    "iris_ldmks = np.array(ldmks[0][0:8])\n",
    "iris_center = np.array(ldmks[0][-2])\n",
    "eyeball_center = np.array(ldmks[0][-1])\n",
    "eyeball_radius = radius_predict.cpu().detach().numpy()[0]"
   ]
  },
  {
   "cell_type": "code",
   "execution_count": null,
   "id": "c8adff18",
   "metadata": {},
   "outputs": [],
   "source": [
    "for i in range(len(ldmks)):\n",
    "    iris_ldmks = np.array(ldmks[i][0:8])\n",
    "    iris_center = np.array(ldmks[i][-2])\n",
    "    eyeball_center = np.array(ldmks[i][-1])\n",
    "    eyeball_radius = radius_predict.cpu().detach().numpy()[i]\n",
    "    gaze_predict = estimate_gaze_from_landmarks(iris_ldmks, iris_center, eyeball_center, eyeball_radius)\n",
    "    print(sample['gaze'][i], gaze_predict)"
   ]
  },
  {
   "cell_type": "code",
   "execution_count": null,
   "id": "b4c43bbe",
   "metadata": {},
   "outputs": [],
   "source": [
    "gaze_predict"
   ]
  },
  {
   "cell_type": "code",
   "execution_count": null,
   "id": "a6ded48a",
   "metadata": {},
   "outputs": [],
   "source": [
    "sample['gaze'][0]"
   ]
  },
  {
   "cell_type": "code",
   "execution_count": null,
   "id": "6e4c7341",
   "metadata": {},
   "outputs": [],
   "source": [
    "iris_ldmks"
   ]
  },
  {
   "cell_type": "code",
   "execution_count": null,
   "id": "71d41a51",
   "metadata": {},
   "outputs": [],
   "source": []
  },
  {
   "cell_type": "code",
   "execution_count": null,
   "id": "09fbfffa",
   "metadata": {},
   "outputs": [],
   "source": []
  }
 ],
 "metadata": {
  "kernelspec": {
   "display_name": "torchcuda",
   "language": "python",
   "name": "torchcuda"
  },
  "language_info": {
   "codemirror_mode": {
    "name": "ipython",
    "version": 3
   },
   "file_extension": ".py",
   "mimetype": "text/x-python",
   "name": "python",
   "nbconvert_exporter": "python",
   "pygments_lexer": "ipython3",
   "version": "3.7.16"
  }
 },
 "nbformat": 4,
 "nbformat_minor": 5
}
