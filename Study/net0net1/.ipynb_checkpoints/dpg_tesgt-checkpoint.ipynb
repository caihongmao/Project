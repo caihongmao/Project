{
 "cells": [
  {
   "cell_type": "code",
   "execution_count": 15,
   "id": "a9a58876",
   "metadata": {},
   "outputs": [],
   "source": [
    "from models.dpg import *\n",
    "from utils.gazemap import *\n",
    "from trainers.dpg_trainer import *\n",
    "import matplotlib.pyplot as plt\n",
    "from torch.utils.data import DataLoader, random_split\n",
    "from datasources.unityeyes import *\n",
    "from datasources.mpii_gaze import *\n",
    "\n",
    "# GPU\n",
    "import torch.backends.cudnn as cudnn\n",
    "device = torch.device(\"cuda\" if torch.cuda.is_available() else \"cpu\")\n",
    "cudnn.benchmark = True\n",
    "\n",
    "# 模型\n",
    "net = DPG()\n",
    "batch_size = 2\n",
    "\n",
    "for param in net.Hourglass_net.parameters():\n",
    "    param.requires_grad = True\n",
    "\n",
    "for param in net.DenseNet.parameters():\n",
    "    param.requires_grad = True\n",
    "\n",
    "# 数据\n",
    "train_dataset = UnityEyesDataset('datasets/train', eye_image_shape=(36, 60), random_difficulty=True) \n",
    "val_dataset = UnityEyesDataset('datasets/val', eye_image_shape=(36, 60), random_difficulty=True)\n",
    "\n",
    "\n",
    "train_dataloader = DataLoader(train_dataset, \n",
    "                                pin_memory=True, \n",
    "                                drop_last=True,\n",
    "                                # shuffle=True,\n",
    "                                batch_size=batch_size)\n",
    "val_dataloader = DataLoader(val_dataset, \n",
    "                                pin_memory=True, \n",
    "                                drop_last=False,\n",
    "                                batch_size=batch_size)"
   ]
  },
  {
   "cell_type": "code",
   "execution_count": 16,
   "id": "580d33b3",
   "metadata": {
    "scrolled": true
   },
   "outputs": [
    {
     "data": {
      "text/plain": [
       "<matplotlib.image.AxesImage at 0x1861a5bb248>"
      ]
     },
     "execution_count": 16,
     "metadata": {},
     "output_type": "execute_result"
    },
    {
     "data": {
      "image/png": "[encoded data removed]",
      "text/plain": [
       "<Figure size 640x480 with 1 Axes>"
      ]
     },
     "metadata": {},
     "output_type": "display_data"
    }
   ],
   "source": [
    "net.load_state_dict(torch.load('models/dpg/model-dpg-0.2-epoch-43-loss-0.7766.pth'))\n",
    "sample = next(iter(train_dataloader))\n",
    "# label = sample['gaze'][0].numpy().copy()\n",
    "gmap = net(sample['eye'])\n",
    "# canvas = draw_gaze(sample['eye'][0][0].numpy(), [30,10], gaze[0].detach().numpy())\n",
    "# plt.imshow(canvas)\n",
    "plt.imshow(gmap[3].detach().numpy()[0][0])"
   ]
  },
  {
   "cell_type": "code",
   "execution_count": null,
   "id": "45b45329",
   "metadata": {},
   "outputs": [],
   "source": []
  },
  {
   "cell_type": "code",
   "execution_count": null,
   "id": "ad7b1bd1",
   "metadata": {},
   "outputs": [],
   "source": [
    "plt.imshow(sample['gmap'][0][0])"
   ]
  },
  {
   "cell_type": "code",
   "execution_count": null,
   "id": "93acb275",
   "metadata": {},
   "outputs": [],
   "source": [
    "from models.dpg import *\n",
    "from utils.gazemap import *\n",
    "from trainers.dpg_trainer import *\n",
    "import matplotlib.pyplot as plt\n",
    "from torch.utils.data import DataLoader, random_split\n",
    "from datasources.unityeyes import *\n",
    "from datasources.mpii_gaze import *\n",
    "\n",
    "# 数据\n",
    "train_dataset = UnityEyesDataset('datasets/train', eye_image_shape=(36, 60), random_difficulty=True) \n",
    "val_dataset = UnityEyesDataset('datasets/val', eye_image_shape=(36, 60), random_difficulty=True)\n",
    "\n",
    "train_dataloader = DataLoader(train_dataset, \n",
    "                                pin_memory=True, \n",
    "                                drop_last=True,\n",
    "                                batch_size=batch_size)\n",
    "val_dataloader = DataLoader(val_dataset, \n",
    "                                pin_memory=True, \n",
    "                                drop_last=False,\n",
    "                                batch_size=batch_size)"
   ]
  },
  {
   "cell_type": "code",
   "execution_count": null,
   "id": "2b6d67a8",
   "metadata": {},
   "outputs": [],
   "source": [
    "sample = next(iter(train_dataloader))"
   ]
  },
  {
   "cell_type": "code",
   "execution_count": null,
   "id": "b7a0361a",
   "metadata": {},
   "outputs": [],
   "source": [
    "pred = net(sample['eye'])[1]"
   ]
  },
  {
   "cell_type": "code",
   "execution_count": null,
   "id": "70474a98",
   "metadata": {},
   "outputs": [],
   "source": [
    "label = sample['gmap']\n",
    "sum_label = torch.sum(label, dim=(2, 3), keepdim=True)\n",
    "label = label / sum_label"
   ]
  },
  {
   "cell_type": "code",
   "execution_count": null,
   "id": "9d377b0d",
   "metadata": {},
   "outputs": [],
   "source": [
    "torch.sum(label[0][0])"
   ]
  },
  {
   "cell_type": "code",
   "execution_count": null,
   "id": "edf8e03b",
   "metadata": {},
   "outputs": [],
   "source": [
    "plt.imshow(label[0][0])"
   ]
  },
  {
   "cell_type": "code",
   "execution_count": 190,
   "id": "efdb0890",
   "metadata": {},
   "outputs": [],
   "source": [
    "from models.dpg import *\n",
    "from utils.gazemap import *\n",
    "from trainers.dpg_trainer import *\n",
    "import matplotlib.pyplot as plt\n",
    "from torch.utils.data import DataLoader, random_split\n",
    "from datasources.unityeyes import *\n",
    "from datasources.mpii_gaze import *\n",
    "from utils.gaze import *\n",
    "\n",
    "# GPU\n",
    "import torch.backends.cudnn as cudnn\n",
    "device = torch.device(\"cuda\" if torch.cuda.is_available() else \"cpu\")\n",
    "cudnn.benchmark = True\n",
    "\n",
    "# 模型\n",
    "net = DPG()\n",
    "net.load_state_dict(torch.load('models/dpg/model-dpg-0.1-epoch-37-loss-0.7248.pth'))\n",
    "batch_size = 2\n",
    "\n",
    "for param in net.Hourglass_net.parameters():\n",
    "    param.requires_grad = True\n",
    "\n",
    "for param in net.DenseNet.parameters():\n",
    "    param.requires_grad = True\n",
    "\n",
    "# 数据\n",
    "# train_dataset = UnityEyesDataset('datasets/train', eye_image_shape=(36, 60), random_difficulty=True) \n",
    "# val_dataset = UnityEyesDataset('datasets/val', eye_image_shape=(36, 60), random_difficulty=True)\n",
    "\n",
    "dataset = MPIIGaze()\n",
    "dataset_size = len(dataset)\n",
    "train_size = int(0.8 * dataset_size)  # 80% 用于训练\n",
    "val_size = dataset_size - train_size  # 剩余部分用于验证\n",
    "train_dataset, val_dataset = random_split(dataset, [train_size, val_size], generator=torch.Generator().manual_seed(42))\n",
    "\n",
    "train_dataloader = DataLoader(train_dataset, \n",
    "                                pin_memory=True, \n",
    "                                drop_last=True,\n",
    "                                shuffle=True,\n",
    "                                batch_size=batch_size)\n",
    "val_dataloader = DataLoader(val_dataset, \n",
    "                                pin_memory=True, \n",
    "                                drop_last=False,\n",
    "                                batch_size=batch_size)\n",
    "\n",
    "# 训练\n",
    "trainer = dpg_trainer(net, train_dataloader, val_dataloader, device, batch_size, \n",
    "                     initial_learning_rate = 1e-4,\n",
    "                     epochs=100, start_epoch=1)"
   ]
  },
  {
   "cell_type": "code",
   "execution_count": 191,
   "id": "29d9ebb5",
   "metadata": {},
   "outputs": [
    {
     "data": {
      "text/plain": [
       "<matplotlib.image.AxesImage at 0x1861ff7fa08>"
      ]
     },
     "execution_count": 191,
     "metadata": {},
     "output_type": "execute_result"
    },
    {
     "data": {
      "image/png": "[encoded data removed]",
      "text/plain": [
       "<Figure size 640x480 with 1 Axes>"
      ]
     },
     "metadata": {},
     "output_type": "display_data"
    }
   ],
   "source": [
    "net.load_state_dict(torch.load('models/dpg/model-dpg-0.3-epoch-21-loss-0.6892.pth'))\n",
    "net = net.cpu()\n",
    "sample = next(iter(train_dataloader))\n",
    "# label = sample['gaze'][0].numpy().copy()\n",
    "res = net(sample['eye'])\n",
    "# canvas = draw_gaze(sample['eye'][0][0].numpy(), [30,10], gaze[0].detach().numpy())\n",
    "# plt.imshow(canvas)\n",
    "plt.imshow(res[3].detach().numpy()[0][0])"
   ]
  },
  {
   "cell_type": "markdown",
   "id": "7e96367f",
   "metadata": {},
   "source": []
  },
  {
   "cell_type": "code",
   "execution_count": null,
   "id": "0321b8b1",
   "metadata": {},
   "outputs": [],
   "source": []
  },
  {
   "cell_type": "code",
   "execution_count": 192,
   "id": "f760d352",
   "metadata": {},
   "outputs": [
    {
     "name": "stderr",
     "output_type": "stream",
     "text": [
      "Clipping input data to the valid range for imshow with RGB data ([0..1] for floats or [0..255] for integers).\n"
     ]
    },
    {
     "data": {
      "text/plain": [
       "<matplotlib.image.AxesImage at 0x186e684f8c8>"
      ]
     },
     "execution_count": 192,
     "metadata": {},
     "output_type": "execute_result"
    },
    {
     "data": {
      "image/png": "[encoded data removed]",
      "text/plain": [
       "<Figure size 640x480 with 1 Axes>"
      ]
     },
     "metadata": {},
     "output_type": "display_data"
    }
   ],
   "source": [
    "plt.imshow(draw_gaze(sample['eye'].numpy()[0][0], res[0].detach().numpy()[0]))"
   ]
  },
  {
   "cell_type": "code",
   "execution_count": 193,
   "id": "c67b7eb8",
   "metadata": {},
   "outputs": [
    {
     "name": "stderr",
     "output_type": "stream",
     "text": [
      "Clipping input data to the valid range for imshow with RGB data ([0..1] for floats or [0..255] for integers).\n"
     ]
    },
    {
     "data": {
      "text/plain": [
       "<matplotlib.image.AxesImage at 0x18706f3ccc8>"
      ]
     },
     "execution_count": 193,
     "metadata": {},
     "output_type": "execute_result"
    },
    {
     "data": {
      "image/png": "[encoded data removed]",
      "text/plain": [
       "<Figure size 640x480 with 1 Axes>"
      ]
     },
     "metadata": {},
     "output_type": "display_data"
    }
   ],
   "source": [
    "plt.imshow(draw_gaze(sample['eye'].numpy()[0][0], sample['gaze'][0]))"
   ]
  },
  {
   "cell_type": "code",
   "execution_count": null,
   "id": "77ee4ec6",
   "metadata": {},
   "outputs": [],
   "source": [
    "dataset = MPIIGaze(input_shape = (36, 60))\n",
    "dataset_size = len(dataset)\n",
    "train_size = int(0.8 * dataset_size)  # 80% 用于训练\n",
    "val_size = dataset_size - train_size  # 剩余部分用于验证"
   ]
  },
  {
   "cell_type": "code",
   "execution_count": null,
   "id": "e65bd55e",
   "metadata": {},
   "outputs": [],
   "source": [
    "train_dataset, val_dataset = random_split(dataset, [train_size, val_size])"
   ]
  },
  {
   "cell_type": "code",
   "execution_count": null,
   "id": "c0b201dc",
   "metadata": {},
   "outputs": [],
   "source": [
    "len(val_dataset)"
   ]
  },
  {
   "cell_type": "code",
   "execution_count": null,
   "id": "36d8480a",
   "metadata": {},
   "outputs": [],
   "source": [
    "from models.elg import *\n",
    "from utils.gazemap import *\n",
    "from trainers.dpg_trainer import *\n",
    "import matplotlib.pyplot as plt\n",
    "from torch.utils.data import DataLoader, random_split\n",
    "from datasources.unityeyes import *\n",
    "from datasources.mpii_gaze import *"
   ]
  },
  {
   "cell_type": "code",
   "execution_count": null,
   "id": "82b5dde7",
   "metadata": {},
   "outputs": [],
   "source": [
    "net = ELG()"
   ]
  },
  {
   "cell_type": "code",
   "execution_count": null,
   "id": "80e7911d",
   "metadata": {},
   "outputs": [],
   "source": [
    "net(sample['eye'])[1].shaoe"
   ]
  },
  {
   "cell_type": "code",
   "execution_count": null,
   "id": "642913f2",
   "metadata": {},
   "outputs": [],
   "source": [
    "sample['eye'].shape"
   ]
  },
  {
   "cell_type": "code",
   "execution_count": null,
   "id": "4c8b8f46",
   "metadata": {},
   "outputs": [],
   "source": []
  }
 ],
 "metadata": {
  "kernelspec": {
   "display_name": "torchcuda",
   "language": "python",
   "name": "torchcuda"
  },
  "language_info": {
   "codemirror_mode": {
    "name": "ipython",
    "version": 3
   },
   "file_extension": ".py",
   "mimetype": "text/x-python",
   "name": "python",
   "nbconvert_exporter": "python",
   "pygments_lexer": "ipython3",
   "version": "3.7.16"
  }
 },
 "nbformat": 4,
 "nbformat_minor": 5
}
