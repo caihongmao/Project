{
 "cells": [
  {
   "cell_type": "code",
   "execution_count": 1,
   "id": "023249b6",
   "metadata": {},
   "outputs": [],
   "source": [
    "from models.dpg_hm_18 import *\n",
    "from models.dpg import *\n",
    "from utils.gazemap import *\n",
    "from utils.gaze import *\n",
    "from trainers.dpg_hm_trainer_18 import *\n",
    "import matplotlib.pyplot as plt\n",
    "from torch.utils.data import DataLoader, random_split\n",
    "from datasources.unityeyes import *\n",
    "from datasources.columbia_gaze import *\n",
    "\n",
    "# GPU\n",
    "import torch.backends.cudnn as cudnn\n",
    "device = torch.device(\"cuda\" if torch.cuda.is_available() else \"cpu\")\n",
    "cudnn.benchmark = True\n",
    "\n",
    "batch_size = 8\n",
    "\n",
    "# 原始模型\n",
    "net = DPGHM18()\n",
    "net.load_state_dict(torch.load('models/dpghm18/model-dpghm18-0.5-epoch-1-loss-0.6998.pth'))\n",
    "net.cuda()\n",
    "\n",
    "\n",
    "dataset = ColumbiaGaze()\n",
    "dataset_size = len(dataset)\n",
    "train_size = int(0.8 * dataset_size)  # 80% 用于训练\n",
    "val_size = dataset_size - train_size  # 剩余部分用于验证\n",
    "train_dataset, val_dataset = random_split(dataset, [train_size, val_size], generator=torch.Generator().manual_seed(42))\n",
    "\n",
    "\n",
    "train_dataloader = DataLoader(train_dataset, \n",
    "                                pin_memory=True, \n",
    "                                drop_last=True,\n",
    "                                # shuffle=True,\n",
    "                                batch_size=batch_size)\n",
    "\n",
    "val_dataloader = DataLoader(val_dataset, \n",
    "                                pin_memory=True, \n",
    "                                drop_last=False,\n",
    "                                batch_size=batch_size)"
   ]
  },
  {
   "cell_type": "code",
   "execution_count": null,
   "id": "d122ef7d",
   "metadata": {},
   "outputs": [],
   "source": [
    "def draw_gaze(image_in, eye_pos, pitchyaw, length=40.0, thickness=2, color=(0, 0, 255)):\n",
    "    \"\"\"Draw gaze angle on given image with a given eye positions.\"\"\"\n",
    "    image_out = image_in\n",
    "    if len(image_out.shape) == 2 or image_out.shape[2] == 1:\n",
    "        image_out = cv.cvtColor(image_out, cv.COLOR_GRAY2BGR)\n",
    "    dx = -length * np.sin(pitchyaw[1])\n",
    "    dy = -length * np.sin(pitchyaw[0])\n",
    "    cv.arrowedLine(image_out, tuple(np.round(eye_pos).astype(np.int32)),\n",
    "                   tuple(np.round([eye_pos[0] + dx, eye_pos[1] + dy]).astype(int)), color,\n",
    "                   thickness, cv.LINE_AA, tipLength=0.2)\n",
    "    return image_out"
   ]
  },
  {
   "cell_type": "code",
   "execution_count": 4,
   "id": "91b7538a",
   "metadata": {
    "scrolled": false
   },
   "outputs": [
    {
     "name": "stderr",
     "output_type": "stream",
     "text": [
      "Clipping input data to the valid range for imshow with RGB data ([0..1] for floats or [0..255] for integers).\n"
     ]
    },
    {
     "data": {
      "text/plain": [
       "<matplotlib.image.AxesImage at 0x2103dd3bf08>"
      ]
     },
     "execution_count": 4,
     "metadata": {},
     "output_type": "execute_result"
    },
    {
     "data": {
      "image/png": "[encoded data removed]",
      "text/plain": [
       "<Figure size 640x480 with 1 Axes>"
      ]
     },
     "metadata": {},
     "output_type": "display_data"
    }
   ],
   "source": [
    "sample = next(iter(val_dataloader))\n",
    "label = sample['gaze'][0].cuda()\n",
    "gaze = net(sample['eye'].cuda())[0]\n",
    "canvas = draw_gaze(sample['eye'][0][0].cpu().numpy(), np.array([30,30]), gaze[0].cpu().detach().numpy())\n",
    "plt.imshow(canvas)"
   ]
  },
  {
   "cell_type": "code",
   "execution_count": null,
   "id": "4c2a5095",
   "metadata": {},
   "outputs": [],
   "source": [
    "sample = next(iter(val_dataloader))\n",
    "label = sample['gaze'][0].cuda()\n",
    "gaze = net(sample['eye'].cuda())[0]\n",
    "canvas = draw_gaze(sample['eye'][0][0].cpu().numpy(), np.array([30,30]), label.cpu().detach().numpy())\n",
    "plt.imshow(canvas)"
   ]
  }
 ],
 "metadata": {
  "kernelspec": {
   "display_name": "torchcuda",
   "language": "python",
   "name": "torchcuda"
  },
  "language_info": {
   "codemirror_mode": {
    "name": "ipython",
    "version": 3
   },
   "file_extension": ".py",
   "mimetype": "text/x-python",
   "name": "python",
   "nbconvert_exporter": "python",
   "pygments_lexer": "ipython3",
   "version": "3.7.16"
  }
 },
 "nbformat": 4,
 "nbformat_minor": 5
}
